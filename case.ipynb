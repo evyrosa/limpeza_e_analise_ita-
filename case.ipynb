{
 "cells": [
  {
   "cell_type": "markdown",
   "id": "709040eb-fbc0-40f9-8347-59ed77f7359c",
   "metadata": {
    "tags": []
   },
   "source": [
    "#  📉 Projeto de Análise de Dados de E-commerce 📈\n"
   ]
  },
  {
   "cell_type": "markdown",
   "id": "f06bae66-227b-4fd3-8d3f-2079b9010e2d",
   "metadata": {},
   "source": [
    "*Por Evelyn Rosa*"
   ]
  },
  {
   "cell_type": "markdown",
   "id": "3676b882-0174-4b7f-989f-ecc27acfc9a4",
   "metadata": {},
   "source": [
    "## Agenda\n",
    "- Introdução\n",
    "Breve descrição do dataset e objetivos do projeto.\n",
    "\n",
    "- Configuração do Ambiente\n",
    "Instalação e importação de bibliotecas necessárias.\n",
    "Exemplo: pandas, numpy, matplotlib e seaborn.\n",
    "\n",
    "- Importação dos Dados\n",
    "Carregamento do dataset no JupyterLab.\n",
    "Verificação inicial dos dados com .head() e .info().\n",
    "\n",
    "- Limpeza dos Dados\n",
    "Remoção de duplicatas.\n",
    "Tratamento de valores ausentes.\n",
    "Correção de erros de entrada e categorias inconsistentes.\n",
    "Análise e tratamento de outliers.\n",
    "Normalização dos dados.\n",
    "\n",
    "- Análise Exploratória de Dados (EDA)\n",
    "Estatísticas descritivas.\n",
    "Visualização de dados para entender distribuições e relações.\n",
    "\n",
    "- Construção de Hipóteses\n",
    "Formulação de hipóteses baseadas na compreensão dos dados.\n",
    "Conclusões\n",
    "\n",
    "- Próximos Passos\n",
    "Sugestões para análises futuras ou coleta de dados adicionais.\n"
   ]
  },
  {
   "cell_type": "markdown",
   "id": "513e5318-d49b-4217-8824-e3c1e0f14cc8",
   "metadata": {},
   "source": [
    "1. Introdução"
   ]
  },
  {
   "cell_type": "markdown",
   "id": "ad6b90ad-fba5-4b84-ac64-b1e4a5dbf1f1",
   "metadata": {},
   "source": [
    "### Descrição do Dataset e Objetivos do Projeto\n",
    "\n",
    "O dataset em questão é uma rica coleção de dados provenientes de transações de e-commerce, que inclui informações detalhadas sobre as compras dos clientes. Com colunas que abrangem desde o ID do Cliente até a Longitude do estado de residência, o conjunto de dados é um reflexo das atividades de compra online, oferecendo insights sobre preferências de produtos, comportamento de compra e satisfação do cliente.\n",
    "\n",
    "### Objetivos do Projeto:\n",
    "\n",
    "Limpeza de Dados: O primeiro objetivo é garantir que o dataset esteja limpo e pronto para análise. Isso envolve a remoção de duplicatas, tratamento de valores ausentes, correção de erros e normalização dos dados.\n",
    "Análise Exploratória: Após a limpeza, o projeto visa realizar uma análise exploratória para identificar padrões, tendências e relações entre as variáveis.\n",
    "\n",
    "Construção de Hipóteses: Com base na análise exploratória, o projeto buscará formular hipóteses sobre o comportamento dos clientes e a performance das categorias de produtos.\n",
    "\n",
    "Testes Estatísticos: Para validar as hipóteses, serão realizados testes estatísticos adequados.\n",
    "Visualização de Dados: O projeto também se concentrará na criação de visualizações gráficas que ajudem a comunicar os resultados da análise de forma eficaz.\n",
    "\n",
    "Insights de Negócios: Por fim, o objetivo é extrair insights acionáveis que possam informar estratégias de negócios e decisões de marketing.\n",
    "Este projeto é uma oportunidade para mergulhar profundamente no mundo do e-commerce, utilizando técnicas de análise de dados para revelar informações valiosas que podem impulsionar o sucesso em um mercado competitivo."
   ]
  },
  {
   "cell_type": "markdown",
   "id": "18b054d3-aafb-426a-8a61-7b8a45291b98",
   "metadata": {},
   "source": [
    "## Configuração do Ambiente\n",
    "2. Instalação e importação de bibliotecas necessárias.\n"
   ]
  },
  {
   "cell_type": "code",
   "execution_count": 1,
   "id": "182bd321-d78f-41a0-a8e2-ac2426475bbf",
   "metadata": {},
   "outputs": [],
   "source": [
    "# Importação de bibliotecas necessárias\n",
    "import pandas as pd\n",
    "import numpy as np\n",
    "import matplotlib.pyplot as plt\n",
    "import seaborn as sns\n",
    "\n",
    "# Configurações adicionais\n",
    "%matplotlib inline\n",
    "sns.set(style=\"whitegrid\")"
   ]
  },
  {
   "cell_type": "markdown",
   "id": "c39f7283-8278-48ce-8b3c-594f5f8778d0",
   "metadata": {},
   "source": [
    "## Importação dos Dados\n",
    "3. Carregamento do dataset no JupyterLab.\n",
    "Verificação inicial dos dados com .head() e .info().\n"
   ]
  },
  {
   "cell_type": "code",
   "execution_count": 2,
   "id": "bbee3a1e-b3c5-4905-b64e-0d83687decc0",
   "metadata": {},
   "outputs": [
    {
     "name": "stdout",
     "output_type": "stream",
     "text": [
      "   Customer ID Purchase Date Product Category  Product Price  Quantity  \\\n",
      "0        46251    08/09/2020      Electronics             12         3   \n",
      "1        46251    05/03/2022             Home            468         4   \n",
      "2        46251    23/05/2022             Home            288         2   \n",
      "3        46251    12/11/2020         Clothing            196         1   \n",
      "4        13593    27/11/2020             Home            449         1   \n",
      "\n",
      "   Total Purchase Amount  NPS  Customer Age   Gender             Source  \\\n",
      "0                    740    7             20    Male  Instagram Campign   \n",
      "1                   2739    8             20    Male  Instagram Campign   \n",
      "2                   3196   10             20    Male                SEM   \n",
      "3                   3509    3             20    Male  Instagram Campign   \n",
      "4                   3452    3             20  Female  Instagram Campign   \n",
      "\n",
      "         Country         State   Latitude  Longituide  \n",
      "0         Canada       Alberta  55.000000 -115.000000  \n",
      "1         Canada       Ontario  50.000000  -85.000000  \n",
      "2  United States    New Mexico  34.840515 -106.248482  \n",
      "3         Canada  Saskatchewan  55.000000 -106.000000  \n",
      "4  United States    California  36.116203 -119.681564  \n"
     ]
    }
   ],
   "source": [
    "# DataFrame\n",
    "df = pd.read_csv(\"Ecommerce_DBS.csv\")\n",
    "\n",
    "# Verificando as primeiras linhas do dataframe\n",
    "print(df.head())"
   ]
  },
  {
   "cell_type": "markdown",
   "id": "abd7fe4f-269f-43b5-8ead-ae4549c9af56",
   "metadata": {
    "tags": []
   },
   "source": [
    "## Observações Iniciais dos Dados do E-commerce\n",
    "Após uma análise preliminar do conjunto de dados, algumas observações interessantes podem ser destacadas:\n",
    "\n",
    "Diversidade de Produtos e Preferências do Cliente: A variedade de categorias de produtos, como Eletrônicos, Casa e Vestuário, sugere um amplo espectro de preferências dos clientes. Isso abre oportunidades para explorar quais categorias são mais populares e geram maior receita.\n",
    "\n",
    "Comportamento de Compra ao Longo do Tempo: As datas de compra indicam quando as transações foram realizadas, permitindo análises de tendências de compra ao longo do tempo. Podemos investigar se há picos de vendas em determinadas épocas do ano ou durante campanhas promocionais específicas.\n",
    "\n",
    "Análise de Preços e Quantidades: A relação entre o preço dos produtos e as quantidades compradas pode revelar insights sobre o comportamento do consumidor em relação ao preço e a demanda por certos itens.\n",
    "Satisfação do Cliente: O Net Promoter Score (NPS) é uma métrica valiosa para medir a lealdade do cliente. Analisar o NPS em conjunto com outras variáveis pode ajudar a entender os fatores que influenciam a satisfação do cliente.\n",
    "Demografia do Cliente: A idade e o gênero dos clientes são dados demográficos chave que podem ser usados para segmentar o mercado e personalizar estratégias de marketing."
   ]
  },
  {
   "cell_type": "markdown",
   "id": "8d2cdd6f-489e-40dc-afa1-62ec24bd87bb",
   "metadata": {},
   "source": [
    " ## Checando as informações do DataFrame\n",
    "4. Analisando as Features"
   ]
  },
  {
   "cell_type": "code",
   "execution_count": 3,
   "id": "f2e85151-5802-4fac-ac58-a42a7a885dfb",
   "metadata": {},
   "outputs": [
    {
     "name": "stdout",
     "output_type": "stream",
     "text": [
      "<class 'pandas.core.frame.DataFrame'>\n",
      "RangeIndex: 250000 entries, 0 to 249999\n",
      "Data columns (total 14 columns):\n",
      " #   Column                 Non-Null Count   Dtype  \n",
      "---  ------                 --------------   -----  \n",
      " 0   Customer ID            250000 non-null  int64  \n",
      " 1   Purchase Date          250000 non-null  object \n",
      " 2   Product Category       250000 non-null  object \n",
      " 3   Product Price          250000 non-null  int64  \n",
      " 4   Quantity               250000 non-null  int64  \n",
      " 5   Total Purchase Amount  250000 non-null  int64  \n",
      " 6   NPS                    250000 non-null  int64  \n",
      " 7   Customer Age           250000 non-null  int64  \n",
      " 8   Gender                 250000 non-null  object \n",
      " 9   Source                 250000 non-null  object \n",
      " 10  Country                250000 non-null  object \n",
      " 11  State                  250000 non-null  object \n",
      " 12  Latitude               250000 non-null  float64\n",
      " 13  Longituide             250000 non-null  float64\n",
      "dtypes: float64(2), int64(6), object(6)\n",
      "memory usage: 26.7+ MB\n"
     ]
    }
   ],
   "source": [
    "df.info()"
   ]
  },
  {
   "cell_type": "markdown",
   "id": "378da52a-4b1b-4765-bd7b-b02f93e36f49",
   "metadata": {
    "tags": []
   },
   "source": [
    "## Limpeza dos Dados\n",
    "5.\n",
    "\n",
    "- Remoção de duplicatas.\n",
    "-  Tratamento de valores ausentes.\n",
    "-  Correção de erros de entrada e categorias inconsistentes.\n",
    "-  Análise e tratamento de outliers.\n",
    "-  Normalização dos dados, se necessário.\n"
   ]
  },
  {
   "cell_type": "markdown",
   "id": "6dbdf275-0552-473e-bc14-a0a474ca0d45",
   "metadata": {},
   "source": [
    "## Remover duplicatas"
   ]
  },
  {
   "cell_type": "code",
   "execution_count": 3,
   "id": "78e61640-7002-4d7b-ab09-073c54ab1718",
   "metadata": {},
   "outputs": [],
   "source": [
    "# O método drop_duplicates() remove todas as linhas duplicadas no DataFrame.\n",
    "\n",
    "# Duplicatas podem ocorrer devido a erros de entrada de dados ou durante a coleta de dados, e podem distorcer análises e resultados.\n",
    "\n",
    "df.drop_duplicates(inplace=True)"
   ]
  },
  {
   "cell_type": "markdown",
   "id": "dbc23674-994c-4e77-8dc6-c85712ab8b9c",
   "metadata": {
    "tags": []
   },
   "source": [
    "## Converter 'Purchase Date' para datetime"
   ]
  },
  {
   "cell_type": "code",
   "execution_count": 5,
   "id": "5ab3c851-3eea-4e63-849a-180a722d7e0d",
   "metadata": {},
   "outputs": [],
   "source": [
    "# A função pd.to_datetime() é usada para converter a coluna 'Purchase Date' de um formato de texto (string) para um formato de data/hora (datetime).\n",
    "\n",
    "# Isso permite que operações específicas de datas sejam realizadas, como ordenar as transações por data,\n",
    "\n",
    "# calcular intervalos de tempo, e extrair componentes da data como dia, mês e ano.\n",
    "df['Purchase Date'] = pd.to_datetime(df['Purchase Date'])"
   ]
  },
  {
   "cell_type": "markdown",
   "id": "9f5e4237-4dea-448a-a59e-7929e0c4e4aa",
   "metadata": {},
   "source": [
    "##  Normalizar texto para minúsculas"
   ]
  },
  {
   "cell_type": "code",
   "execution_count": 6,
   "id": "53b9320c-0586-4884-a1d4-4c5f7f3a1844",
   "metadata": {},
   "outputs": [],
   "source": [
    "# Normalizar texto para minúsculas\n",
    "# Este passo converte todos os textos nas colunas especificadas para minúsculas.\n",
    "# Isso ajuda a manter a consistência dos dados e evita problemas de duplicação causados por diferenças de caixa (por exemplo, 'Home' vs 'home').\n",
    "colunas_texto = ['Product Category', 'Gender', 'Source', 'Country', 'State']\n",
    "for coluna in colunas_texto:\n",
    "    df[coluna] = df[coluna].str.lower()"
   ]
  },
  {
   "cell_type": "markdown",
   "id": "8e670a93-78dd-46ce-bb58-3c7a85bcacd1",
   "metadata": {},
   "source": [
    "## Tratamento de valores ausentes"
   ]
  },
  {
   "cell_type": "markdown",
   "id": "c1cce6f0-b9df-416a-9a54-ccf1f5c21c46",
   "metadata": {},
   "source": [
    "Com base no resumo fornecido em `df.info()`foi possível observar que o DataFrame não contém valores nulos, o que é excelente, pois significa há um conjunto de dados completo para trabalhar. No entanto, é sempre uma boa prática confirmar isso, pois os valores nulos podem afetar a qualidade da análise."
   ]
  },
  {
   "cell_type": "code",
   "execution_count": 7,
   "id": "602c8b39-d372-46ea-b00d-a430c3382e51",
   "metadata": {},
   "outputs": [
    {
     "name": "stdout",
     "output_type": "stream",
     "text": [
      "Customer ID              0\n",
      "Purchase Date            0\n",
      "Product Category         0\n",
      "Product Price            0\n",
      "Quantity                 0\n",
      "Total Purchase Amount    0\n",
      "NPS                      0\n",
      "Customer Age             0\n",
      "Gender                   0\n",
      "Source                   0\n",
      "Country                  0\n",
      "State                    0\n",
      "Latitude                 0\n",
      "Longituide               0\n",
      "dtype: int64\n"
     ]
    }
   ],
   "source": [
    "# Verificar a presença de valores nulos no DataFrame\n",
    "\n",
    "# O método isnull() identifica valores nulos em cada célula do DataFrame,\n",
    "# e o método sum() soma a quantidade de valores nulos encontrados em cada coluna.\n",
    "\n",
    "valores_nulos = df.isnull().sum()\n",
    "\n",
    "# Exibir a quantidade de valores nulos por coluna\n",
    "print(valores_nulos)"
   ]
  },
  {
   "cell_type": "markdown",
   "id": "a9a3deed-dcdf-45ff-9f56-c970b23b7867",
   "metadata": {},
   "source": [
    "Não Há valores nulos. "
   ]
  },
  {
   "cell_type": "code",
   "execution_count": 8,
   "id": "acd0d67e-e626-4d86-ab90-898938e96e46",
   "metadata": {},
   "outputs": [],
   "source": [
    "# Verificar e tratar outliers\n",
    "import numpy as np\n",
    "from scipy import stats\n",
    "\n",
    "# Tratamento de Outliers\n",
    "# utiliza o método de pontuação Z para identificar outliers.\n",
    "# Um outlier é definido como um valor que está a mais de 3 desvios padrão da média.\n",
    "# A pontuação Z é a medida de quantos desvios padrão um ponto de dado está da média.\n",
    "\n",
    "# Calcula a pontuação Z (z-score) para a coluna 'Product Price'\n",
    "z_scores = stats.zscore(df['Product Price'])\n",
    "\n",
    "# Define um limite para identificar um outlier. Neste caso, usamos 3 desvios padrão.\n",
    "limite = 3\n",
    "\n",
    "# Cria um filtro booleano que será True para valores dentro do limite e False para outliers\n",
    "filtro_outliers = (np.abs(z_scores) < limite)\n",
    "\n",
    "# Aplica o filtro ao DataFrame para manter apenas as linhas sem outliers\n",
    "df_sem_outliers = df[filtro_outliers]\n",
    "\n",
    "# Agora 'df_sem_outliers' contém o DataFrame sem os outliers na coluna 'Product Price'\n"
   ]
  },
  {
   "cell_type": "code",
   "execution_count": 9,
   "id": "46b7fbe1-41c7-4fc4-8cb1-3ca62bbb2c27",
   "metadata": {},
   "outputs": [],
   "source": [
    "# Criar novas colunas\n",
    "# Novas colunas podem ser criadas para facilitar análises futuras.\n",
    "# Por exemplo, extrair o ano da data de compra pode ser útil para análises anuais ou comparações ano a ano.\n",
    "df['Year of Purchase'] = df['Purchase Date'].dt.year"
   ]
  },
  {
   "cell_type": "markdown",
   "id": "58b28370-3335-4349-a711-10c2e26ddded",
   "metadata": {},
   "source": [
    "## Verificar consistência dos dados"
   ]
  },
  {
   "cell_type": "code",
   "execution_count": 11,
   "id": "aaf7f0c0-d31d-45af-a9a0-13be3b859fd4",
   "metadata": {},
   "outputs": [
    {
     "name": "stdout",
     "output_type": "stream",
     "text": [
      "Index(['Customer ID', 'Purchase Date', 'Product Category', 'Product Price',\n",
      "       'Quantity', 'Total Purchase Amount', 'NPS', 'Customer Age ', 'Gender',\n",
      "       'Source', 'Country', 'State', 'Latitude', 'Longituide'],\n",
      "      dtype='object')\n"
     ]
    }
   ],
   "source": [
    "print(df.columns)"
   ]
  },
  {
   "cell_type": "code",
   "execution_count": 10,
   "id": "209fae93-344b-4719-a646-c5a4b7f6712e",
   "metadata": {},
   "outputs": [],
   "source": [
    "# Corrigindo o acesso à coluna 'Customer Age ' que contém um espaço extra no final\n",
    "df = df[df['Customer Age '] > 0]"
   ]
  },
  {
   "cell_type": "code",
   "execution_count": 11,
   "id": "a7466487-c993-4c1d-9d76-8c3b1033dbec",
   "metadata": {},
   "outputs": [],
   "source": [
    "# Renomeando a coluna para remover o espaço extra no final\n",
    "df.rename(columns={'Customer Age ': 'Customer Age'}, inplace=True)\n",
    "\n",
    "# acessar a coluna sem o espaço extra\n",
    "df = df[df['Customer Age'] > 0]"
   ]
  },
  {
   "cell_type": "code",
   "execution_count": 12,
   "id": "63602402-a0e4-467d-87de-e1572d465122",
   "metadata": {},
   "outputs": [],
   "source": [
    "# Garantir a consistência dos dados na coluna 'Customer Age'\n",
    "# Este código remove linhas onde a 'Customer Age' é menor ou igual a zero,\n",
    "# pois esses valores não são válidos no contexto dos dados.\n",
    "df = df[df['Customer Age'] > 0]\n"
   ]
  },
  {
   "cell_type": "code",
   "execution_count": 42,
   "id": "5695ced8-0f36-47b0-aec3-9af91454e5b3",
   "metadata": {},
   "outputs": [],
   "source": [
    "# Após a limpeza dos dados, é uma boa prática resetar o índice do DataFrame\n",
    "# para garantir que cada linha tenha um identificador único.\n",
    "df.reset_index(drop=True, inplace=True)"
   ]
  },
  {
   "cell_type": "code",
   "execution_count": 16,
   "id": "18052f42-0be8-4221-b51b-9a7cef5f133e",
   "metadata": {},
   "outputs": [
    {
     "name": "stdout",
     "output_type": "stream",
     "text": [
      "Tipos de dados das colunas:\n",
      "Customer ID                       int64\n",
      "Purchase Date            datetime64[ns]\n",
      "Product Category                 object\n",
      "Product Price                     int64\n",
      "Quantity                          int64\n",
      "Total Purchase Amount             int64\n",
      "NPS                               int64\n",
      "Customer Age                      int64\n",
      "Gender                           object\n",
      "Source                           object\n",
      "Country                          object\n",
      "State                            object\n",
      "Latitude                        float64\n",
      "Longituide                      float64\n",
      "dtype: object\n"
     ]
    }
   ],
   "source": [
    "# Verificar tipos de dados\n",
    "tipos_de_dados = df.dtypes\n",
    "print('Tipos de dados das colunas:')\n",
    "print(tipos_de_dados)"
   ]
  },
  {
   "cell_type": "markdown",
   "id": "8366aa66-e6ef-4666-a7fe-25ce363af0a0",
   "metadata": {},
   "source": [
    "## Análise Exploratória de Dados (EDA)\n",
    "\n",
    "6. Visualização de dados para entender distribuições e relações.\n"
   ]
  },
  {
   "cell_type": "code",
   "execution_count": 17,
   "id": "05672c1b-1d28-4c6f-8f11-87caf7c2960a",
   "metadata": {},
   "outputs": [
    {
     "name": "stdout",
     "output_type": "stream",
     "text": [
      "<class 'pandas.core.frame.DataFrame'>\n",
      "Int64Index: 250000 entries, 0 to 249999\n",
      "Data columns (total 15 columns):\n",
      " #   Column                 Non-Null Count   Dtype         \n",
      "---  ------                 --------------   -----         \n",
      " 0   Customer ID            250000 non-null  int64         \n",
      " 1   Purchase Date          250000 non-null  datetime64[ns]\n",
      " 2   Product Category       250000 non-null  object        \n",
      " 3   Product Price          250000 non-null  int64         \n",
      " 4   Quantity               250000 non-null  int64         \n",
      " 5   Total Purchase Amount  250000 non-null  int64         \n",
      " 6   NPS                    250000 non-null  int64         \n",
      " 7   Customer Age           250000 non-null  int64         \n",
      " 8   Gender                 250000 non-null  object        \n",
      " 9   Source                 250000 non-null  object        \n",
      " 10  Country                250000 non-null  object        \n",
      " 11  State                  250000 non-null  object        \n",
      " 12  Latitude               250000 non-null  float64       \n",
      " 13  Longituide             250000 non-null  float64       \n",
      " 14  Year of Purchase       250000 non-null  int64         \n",
      "dtypes: datetime64[ns](1), float64(2), int64(7), object(5)\n",
      "memory usage: 30.5+ MB\n",
      "None\n"
     ]
    }
   ],
   "source": [
    "# Visão geral dos dados\n",
    "# nos dá uma ideia rápida do número de observações e tipos de variáveis que temos.\n",
    "\n",
    "print(df.info())"
   ]
  },
  {
   "cell_type": "markdown",
   "id": "05f9d2f5-4083-40ee-9ce1-003af020fea0",
   "metadata": {},
   "source": [
    "Com base na saída do método df.describe() e nas informações fornecidas sobre o DataFrame, podemos inferir várias coisas:\n",
    "\n",
    "Completo: Todos os 250.000 registros têm valores não nulos em todas as colunas, indicando que o conjunto de dados está completo e não possui valores ausentes.\n",
    "\n",
    "Tipos de Dados: As colunas estão com os tipos de dados apropriados: int64 para identificadores numéricos e quantidades.\n",
    "\n",
    "datetime64 para datas, o que facilita a manipulação de datas.\n",
    "\n",
    "object para categorias textuais, que podem incluir strings ou categorias mistas.\n",
    "\n",
    "float64 para dados geográficos, que é adequado para coordenadas.\n",
    "\n",
    "Diversidade de Dados: O conjunto de dados contém uma mistura de variáveis numéricas, categóricas e temporais, o que é ideal para uma análise robusta e multifacetada.\n",
    "\n",
    "Estrutura: A estrutura do DataFrame é bem organizada, com 14 colunas distintas, cada uma representando uma variável específica do conjunto de dados.\n",
    "\n",
    "Potencial para Análise: Há um grande potencial para realizar análises estatísticas, geográficas, temporais e de comportamento do cliente, dada a variedade de tipos de dados e a riqueza das informações."
   ]
  },
  {
   "cell_type": "code",
   "execution_count": 20,
   "id": "2e1b2a11-8ea1-40cf-a04f-0f4ac13643b5",
   "metadata": {},
   "outputs": [
    {
     "name": "stdout",
     "output_type": "stream",
     "text": [
      "        Customer ID  Product Price       Quantity  Total Purchase Amount  \\\n",
      "count  250000.00000  250000.000000  250000.000000          250000.000000   \n",
      "mean    25004.03624     254.659512       2.998896            2725.370732   \n",
      "std     14428.27959     141.568577       1.414694            1442.933565   \n",
      "min         1.00000      10.000000       1.000000             100.000000   \n",
      "25%     12497.75000     132.000000       2.000000            1477.000000   \n",
      "50%     25018.00000     255.000000       3.000000            2724.000000   \n",
      "75%     37506.00000     377.000000       4.000000            3974.000000   \n",
      "max     50000.00000     500.000000       5.000000            5350.000000   \n",
      "\n",
      "                 NPS   Customer Age       Latitude     Longituide  \\\n",
      "count  250000.000000  250000.000000  250000.000000  250000.000000   \n",
      "mean        4.991832      43.759228      42.400790     -81.648522   \n",
      "std         3.166732      15.392075       7.214608      37.339110   \n",
      "min         0.000000      18.000000      31.169546    -127.647621   \n",
      "25%         2.000000      30.000000      36.116203    -106.000000   \n",
      "50%         5.000000      44.000000      42.165726     -74.948051   \n",
      "75%         8.000000      57.000000      46.250000     -74.948051   \n",
      "max        10.000000      70.000000      56.415211      98.739075   \n",
      "\n",
      "       Year of Purchase  \n",
      "count     250000.000000  \n",
      "mean        2021.377992  \n",
      "std            1.077485  \n",
      "min         2020.000000  \n",
      "25%         2020.000000  \n",
      "50%         2021.000000  \n",
      "75%         2022.000000  \n",
      "max         2023.000000  \n"
     ]
    }
   ],
   "source": [
    "# Estatísticas descritivas das colunas numéricas\n",
    "\n",
    "estatisticas_descritivas = df.describe()\n",
    "print(estatisticas_descritivas)"
   ]
  },
  {
   "cell_type": "markdown",
   "id": "f27be209-0f8c-4fcc-b885-1c5bbbffc26b",
   "metadata": {},
   "source": [
    "Analisando as estatísticas descritivas fornecidas, podemos inferir os seguintes pontos sobre o conjunto de dados:\n",
    "\n",
    "Customer ID: Os IDs dos clientes variam de 1 a 50.000, indicando que há 50.000 clientes únicos no conjunto de dados.\n",
    "\n",
    "Product Price: O preço médio dos produtos é de aproximadamente R 254,66.𝑂𝑠𝑝𝑟𝑒ç𝑜𝑠𝑣𝑎𝑟𝑖𝑎𝑚𝑑𝑒𝑅\n",
    "  10,00 a R 500,00,𝑐𝑜𝑚 𝑎 𝑚𝑎𝑖𝑜𝑟𝑖𝑎 𝑑𝑜 𝑠𝑝𝑟𝑜𝑑𝑢𝑡𝑜𝑠 𝑐𝑢𝑠𝑡𝑎𝑛𝑑𝑜 𝑒𝑛𝑡𝑟𝑒 𝑅$\n",
    "  132,00 e R$ 377,00.\n",
    "\n",
    "Quantity: Em média, os clientes compram cerca de 3 produtos por transação.\n",
    "\n",
    "A quantidade de produtos por compra varia de 1 a 5.\n",
    "\n",
    "Total Purchase Amount: O valor total médio das compras é de aproximadamente R 2725,37.𝑂 𝑣𝑎𝑙𝑜𝑟 𝑡𝑜𝑡𝑎𝑙 𝑑𝑎𝑠 𝑐𝑜𝑚𝑝𝑟𝑎𝑠 𝑣𝑎𝑟𝑖𝑎 𝑑𝑒 𝑅$\n",
    "  100,00 a R$ 5350,00.\n",
    "\n",
    "NPS (Net Promoter Score): A pontuação média do NPS é de 4,99, numa escala de 0 a 10. Isso sugere uma satisfação do cliente moderada, com espaço para melhorias.\n",
    "\n",
    "Customer Age: A idade média dos clientes é de aproximadamente 43,76 anos. A faixa etária dos clientes varia de 18 a 70 anos.\n",
    "\n",
    "-Latitude e Longitude: As coordenadas indicam a localização geográfica dos clientes, com latitude variando de 31,17 a 56,42 e longitude de -127,65 a 98,74.\n",
    "\n",
    "Essas informações podem ser usadas para entender melhor o perfil dos clientes, suas preferências de compra e a distribuição geográfica. Além disso, podem ajudar a identificar oportunidades para aumentar a satisfação do cliente e otimizar a estratégia de preços e produtos."
   ]
  },
  {
   "cell_type": "code",
   "execution_count": 13,
   "id": "f805391b-f62b-4e3c-939b-361adba37481",
   "metadata": {},
   "outputs": [
    {
     "data": {
      "image/png": "[encoded data removed]",
      "text/plain": [
       "<Figure size 720x432 with 1 Axes>"
      ]
     },
     "metadata": {},
     "output_type": "display_data"
    }
   ],
   "source": [
    "# 1. Histograma da 'Product Price' para visualizar a distribuição dos preços dos produtos\n",
    "\n",
    "plt.figure(figsize=(10, 6))\n",
    "sns.histplot(df['Product Price'], bins=30, kde=True)\n",
    "plt.title('Distribuição dos Preços dos Produtos')\n",
    "plt.xlabel('Preço do Produto')\n",
    "plt.ylabel('Frequência')\n",
    "plt.show()"
   ]
  },
  {
   "cell_type": "markdown",
   "id": "ce3f06b8-8f3e-45b2-8579-91a7d49cd209",
   "metadata": {},
   "source": [
    "O histograma intitulado apresenta uma visão geral da frequência dos preços dos produtos dentro de um conjunto de dados. O eixo x, rotulado como “Preço do Produto”, varia de 0 a 500, enquanto o eixo y, rotulado como “Frequência”, mostra valores aproximados de 0 a 8000.\n",
    "\n",
    "A análise do histograma revela que a maioria dos produtos está concentrada na faixa de preço mais baixa, com uma frequência significativamente alta de produtos no primeiro intervalo de preço, começando em 0. Observa-se uma diminuição acentuada na frequência à medida que o preço do produto aumenta, indicando que produtos com preços mais altos são menos comuns neste conjunto de dados. As frequências mais altas estão localizadas na parte mais à esquerda do histograma, sugerindo que a maioria dos produtos se enquadra em categorias de preço mais baixo."
   ]
  },
  {
   "cell_type": "code",
   "execution_count": 21,
   "id": "1b237bdf-441c-407a-9717-8b1d34b797e0",
   "metadata": {},
   "outputs": [
    {
     "name": "stdout",
     "output_type": "stream",
     "text": [
      "O produto mais vendido nos últimos três anos é: clothing\n"
     ]
    }
   ],
   "source": [
    "# Filtrar os dados para os últimos três anos\n",
    "data_inicio = pd.Timestamp.now() - pd.DateOffset(years=3)\n",
    "df_recentes = df[df['Purchase Date'] >= data_inicio]\n",
    "\n",
    "# Agrupar por 'Product Category' e somar as 'Quantities'\n",
    "produtos_vendidos = df_recentes.groupby('Product Category')['Quantity'].sum()\n",
    "\n",
    "# Ordenar os produtos pela quantidade vendida em ordem decrescente\n",
    "produtos_mais_vendidos = produtos_vendidos.sort_values(ascending=False)\n",
    "\n",
    "# Obter o produto mais vendido\n",
    "produto_mais_vendido = produtos_mais_vendidos.idxmax()\n",
    "\n",
    "print(f'O produto mais vendido nos últimos três anos é: {produto_mais_vendido}')"
   ]
  },
  {
   "cell_type": "markdown",
   "id": "a4f2d578-fa0a-4912-a53a-a44a54447e2b",
   "metadata": {},
   "source": [
    "A categoria de roupas emergiu como a líder incontestável em vendas nos últimos três anos, refletindo uma tendência contínua e crescente no mundo do e-commerce. Este sucesso pode ser atribuído a uma combinação de fatores, incluindo a diversidade de estilos que apelam a uma ampla demografia, a conveniência das compras online e a evolução constante das tendências da moda que mantêm os consumidores engajados e retornando por mais.\n",
    "\n",
    "A popularidade das roupas como o produto mais vendido também destaca a eficácia das estratégias de marketing e promoção da empresa, que conseguiram capturar a atenção dos consumidores e incentivá-los a fazer compras repetidas. Além disso, a capacidade de oferecer uma variedade de opções de tamanho, cor e design pode ter contribuído significativamente para a posição dominante das roupas no mercado."
   ]
  },
  {
   "cell_type": "code",
   "execution_count": 22,
   "id": "c874e1f5-ee93-4a48-8b60-3c46ee496194",
   "metadata": {},
   "outputs": [
    {
     "name": "stdout",
     "output_type": "stream",
     "text": [
      "O produto mais caro é: electronics\n",
      "O produto mais barato é: electronics\n"
     ]
    }
   ],
   "source": [
    "# Encontrar o produto mais caro\n",
    "produto_mais_caro = df.loc[df['Product Price'].idxmax(), 'Product Category']\n",
    "\n",
    "# Encontrar o produto mais barato\n",
    "produto_mais_barato = df.loc[df['Product Price'].idxmin(), 'Product Category']\n",
    "\n",
    "print(f'O produto mais caro é: {produto_mais_caro}')\n",
    "print(f'O produto mais barato é: {produto_mais_barato}')"
   ]
  },
  {
   "cell_type": "code",
   "execution_count": 23,
   "id": "c5385b7f-5e5a-4bca-a121-4ec92c3beead",
   "metadata": {},
   "outputs": [
    {
     "name": "stdout",
     "output_type": "stream",
     "text": [
      "O produto individual mais caro é: electronics com preço de 500\n",
      "O produto individual mais barato é: electronics com preço de 10\n"
     ]
    }
   ],
   "source": [
    "# Supondo que cada linha no DataFrame representa um produto individual\n",
    "\n",
    "# Encontrar o produto individual mais caro\n",
    "indice_mais_caro = df['Product Price'].idxmax()\n",
    "produto_mais_caro = df.loc[indice_mais_caro]\n",
    "\n",
    "# Encontrar o produto individual mais barato\n",
    "indice_mais_barato = df['Product Price'].idxmin()\n",
    "produto_mais_barato = df.loc[indice_mais_barato]\n",
    "\n",
    "print(f'O produto individual mais caro é: {produto_mais_caro[\"Product Category\"]} com preço de {produto_mais_caro[\"Product Price\"]}')\n",
    "print(f'O produto individual mais barato é: {produto_mais_barato[\"Product Category\"]} com preço de {produto_mais_barato[\"Product Price\"]}')"
   ]
  },
  {
   "cell_type": "markdown",
   "id": "4ba4e5f5-7aad-456a-afb0-b2f7d494bac6",
   "metadata": {},
   "source": [
    "A descoberta de que tanto o produto mais caro quanto o mais barato pertencem à categoria de eletrônicos é um reflexo fascinante da vasta gama de preços que essa categoria pode abranger. Eletrônicos podem variar de itens pequenos e acessíveis, como cabos e acessórios, até dispositivos de alta tecnologia e de última geração, como smartphones e laptops.\n",
    "\n",
    "O produto mais caro, com um preço de $500, pode ser um dispositivo eletrônico avançado que oferece recursos de ponta, qualidade superior e talvez ate mesmo uma marca renomada que justifica seu custo elevado. Por outro lado, o produto mais barato, custando apenas $10, pode ser um item eletrônico básico ou um acessório que, embora útil, não requer a mesma complexidade de design ou materiais caros para sua produção.\n",
    "\n",
    "Essa disparidade nos preços dentro da mesma categoria destaca a importância de uma estratégia de precificação diversificada que pode atender a todos os segmentos de mercado, desde consumidores que buscam opções econômicas até aqueles dispostos a investir em tecnologia de alta qualidade. Além disso, sugere que a categoria de eletrônicos é amplamente popular e capaz de atrair uma variedade de clientes com diferentes necessidades e orçamentos."
   ]
  },
  {
   "cell_type": "code",
   "execution_count": 24,
   "id": "5b28fd66-8048-44a5-9c87-6f8997bdc4d3",
   "metadata": {},
   "outputs": [
    {
     "name": "stdout",
     "output_type": "stream",
     "text": [
      "A categoria mais vendida é: clothing\n",
      "A categoria menos vendida é: home\n",
      "A categoria mais cara, em média, é: home\n",
      "A categoria menos cara, em média, é: clothing\n"
     ]
    }
   ],
   "source": [
    "# Agrupar por 'Product Category' e somar as 'Quantities' para encontrar as categorias mais e menos vendidas\n",
    "vendas_por_categoria = df.groupby('Product Category')['Quantity'].sum()\n",
    "categoria_mais_vendida = vendas_por_categoria.idxmax()\n",
    "categoria_menos_vendida = vendas_por_categoria.idxmin()\n",
    "\n",
    "# Agrupar por 'Product Category' e calcular o preço médio para encontrar as categorias mais e menos caras\n",
    "preco_medio_por_categoria = df.groupby('Product Category')['Product Price'].mean()\n",
    "categoria_mais_cara = preco_medio_por_categoria.idxmax()\n",
    "categoria_menos_cara = preco_medio_por_categoria.idxmin()\n",
    "\n",
    "print(f'A categoria mais vendida é: {categoria_mais_vendida}')\n",
    "print(f'A categoria menos vendida é: {categoria_menos_vendida}')\n",
    "print(f'A categoria mais cara, em média, é: {categoria_mais_cara}')\n",
    "print(f'A categoria menos cara, em média, é: {categoria_menos_cara}')"
   ]
  },
  {
   "cell_type": "markdown",
   "id": "951c08a8-eaef-439d-8ad0-6c9f47340394",
   "metadata": {},
   "source": [
    "Roupas emergem como a categoria mais vendida, o que não é surpreendente, considerando que a moda é uma das categorias mais populares e dinâmicas no comércio eletrônico. A capacidade de oferecer uma ampla gama de estilos, tamanhos e preços, juntamente com a mudança rápida das tendências, contribui para o alto volume de vendas nesta categoria.\n",
    "\n",
    "Por outro lado, a categoria casa é a menos vendida, o que pode ser devido a vários fatores, como a natureza dos produtos serem geralmente compras menos frequentes e de maior consideração, ou talvez uma gama mais limitada de produtos disponíveis nesta categoria no site.\n",
    "\n",
    "Interessantemente, a categoria casa também se destaca como a mais cara em média. Isso pode refletir o fato de que itens para casa, como móveis ou eletrodomésticos, tendem a ter um preço mais alto devido ao seu tamanho, material e funcionalidade. Esses produtos são muitas vezes vistos como investimentos a longo prazo pelos consumidores."
   ]
  },
  {
   "cell_type": "code",
   "execution_count": 25,
   "id": "92edecfc-6bdf-40c0-98c3-1c2e76aae93f",
   "metadata": {},
   "outputs": [
    {
     "name": "stdout",
     "output_type": "stream",
     "text": [
      "O produto com o melhor NPS é: home\n",
      "O produto com o pior NPS é: clothing\n"
     ]
    }
   ],
   "source": [
    "# Encontrar o produto com o melhor NPS\n",
    "produto_melhor_nps = df.loc[df['NPS'].idxmax(), 'Product Category']\n",
    "\n",
    "# Encontrar o produto com o pior NPS\n",
    "produto_pior_nps = df.loc[df['NPS'].idxmin(), 'Product Category']\n",
    "\n",
    "print(f'O produto com o melhor NPS é: {produto_melhor_nps}')\n",
    "print(f'O produto com o pior NPS é: {produto_pior_nps}')"
   ]
  },
  {
   "cell_type": "markdown",
   "id": "edc79e0f-b650-4f55-b0f4-840709b56630",
   "metadata": {},
   "source": [
    "Os resultados do Net Promoter Score (NPS) para o conjunto de dados de e-commerce revelam uma dicotomia interessante entre duas categorias principais. A categoria casa alcançou o mais alto NPS, indicando um nível de satisfação e lealdade excepcional entre os clientes. Isso pode ser atribuído à percepção de valor agregado que os produtos para casa oferecem, como conforto, durabilidade e estética. Produtos nesta categoria muitas vezes refletem o estilo pessoal e contribuem para o bem-estar no ambiente doméstico, o que pode levar a uma maior satisfação do cliente.\n",
    "\n",
    "Por outro lado, a categoria roupas, apesar de ser a mais vendida, registrou o pior NPS. Isso pode ser devido a vários fatores, como a dificuldade de encontrar o ajuste certo ao comprar online, variações na qualidade percebida ou até mesmo a volatilidade das tendências da moda que podem afetar a satisfação do cliente após a compra. Além disso, a alta frequência de compras nesta categoria pode resultar em expectativas mais altas dos clientes, que, quando não atendidas, podem impactar negativamente o NPS."
   ]
  },
  {
   "cell_type": "code",
   "execution_count": 14,
   "id": "23b0384d-5c11-4ea9-9eb3-ff2cbb955e68",
   "metadata": {},
   "outputs": [
    {
     "data": {
      "image/png": "[encoded data removed]",
      "text/plain": [
       "<Figure size 432x288 with 1 Axes>"
      ]
     },
     "metadata": {},
     "output_type": "display_data"
    }
   ],
   "source": [
    "# Gráfico de Dispersão de Preço do Produto vs. Quantidade:\n",
    "sns.scatterplot(data=df, x='Product Price', y='Quantity', size='Total Purchase Amount', hue='Total Purchase Amount', alpha=0.6)\n",
    "plt.xlabel('Preço do Produto')\n",
    "plt.ylabel('Quantidade')\n",
    "plt.title('Preço do Produto vs. Quantidade')\n",
    "plt.legend(title='Total Purchase Amount')\n",
    "plt.show()"
   ]
  },
  {
   "cell_type": "markdown",
   "id": "3094086c-72b1-4227-a26e-c13989b3c5a7",
   "metadata": {},
   "source": [
    "O gráfico “Preço do Produto vs. Quantidade” apresenta uma relação interessante entre o preço dos produtos e a quantidade comprada. Observamos que a maioria dos pontos está concentrada na faixa de preço mais baixa, indicando que produtos com preços menores tendem a ter uma quantidade maior de vendas. Isso pode sugerir uma preferência dos consumidores por itens mais acessíveis ou uma estratégia de precificação que favorece a venda de produtos em maior volume a preços reduzidos.\n",
    "\n",
    "Além disso, o tamanho das bolhas, que representa o “Total Purchase Amount”, mostra que as compras de maior valor total não estão necessariamente ligadas aos produtos mais caros. Em muitos casos, quantidades maiores de produtos mais baratos contribuem para um valor total de compra elevado. Isso pode indicar que promoções ou descontos em produtos de menor valor podem ser uma estratégia eficaz para aumentar o valor total das vendas.\n",
    "\n",
    "A distribuição dos pontos ao longo do eixo da quantidade também é bastante uniforme, sugerindo que a loja tem uma boa variedade de opções que atendem a diferentes necessidades de compra dos clientes. No entanto, há uma leve tendência de diminuição na quantidade à medida que o preço do produto aumenta, o que é esperado no comportamento de compra."
   ]
  },
  {
   "cell_type": "code",
   "execution_count": 15,
   "id": "be6663f1-3262-4b34-a4ff-a0b163e36846",
   "metadata": {},
   "outputs": [
    {
     "data": {
      "image/png": "[encoded data removed]",
      "text/plain": [
       "<Figure size 432x288 with 1 Axes>"
      ]
     },
     "metadata": {},
     "output_type": "display_data"
    }
   ],
   "source": [
    "# Boxplot da Idade dos Clientes por Gênero:\n",
    "\n",
    "\n",
    "sns.boxplot(x='Gender', y='Customer Age', data=df)\n",
    "plt.xlabel('Gênero')\n",
    "plt.ylabel('Idade dos Clientes')\n",
    "plt.title('Distribuição da Idade dos Clientes por Gênero')\n",
    "plt.show()"
   ]
  },
  {
   "cell_type": "markdown",
   "id": "b952b479-6911-4c52-a645-982a563ce376",
   "metadata": {},
   "source": [
    "Analisando o gráfico “Distribuição da Idade dos Clientes por Gênero”, podemos observar que há uma distribuição de idades bastante abrangente entre os clientes, variando aproximadamente de 20 a 70 anos. As caixas representam a faixa interquartil (IQR), com uma linha dentro de cada caixa indicando a idade mediana. O box plot rotulado como ‘male’ (masculino) apresenta uma mediana de idade ligeiramente inferior à do box plot ‘female’ (feminino), sugerindo que os clientes do gênero masculino podem ser, em média, um pouco mais jovens do que os do gênero feminino.\n",
    "\n",
    "Este tipo de visualização é útil para entender a demografia dos clientes e pode ser relevante para análises de mercado ou estudos demográficos. Por exemplo, estratégias de marketing e desenvolvimento de produtos podem ser adaptadas para atender às necessidades específicas de diferentes faixas etárias e gêneros. Além disso, a compreensão da distribuição etária pode ajudar a empresa a identificar oportunidades de mercado e a personalizar comunicações e ofertas para segmentos específicos de clientes."
   ]
  },
  {
   "cell_type": "code",
   "execution_count": 16,
   "id": "9bd494bb-37ad-4c57-97b3-fc9551efcc39",
   "metadata": {},
   "outputs": [
    {
     "data": {
      "image/png": "[encoded data removed]",
      "text/plain": [
       "<Figure size 432x288 with 1 Axes>"
      ]
     },
     "metadata": {},
     "output_type": "display_data"
    }
   ],
   "source": [
    "# Certifique-se de que as colunas 'Latitude' e 'Longitude' estão com os nomes corretos\n",
    "\n",
    "plt.scatter(df['Longituide'], df['Latitude'])\n",
    "plt.xlabel('Longitude')\n",
    "plt.ylabel('Latitude')\n",
    "plt.title('Localização Geográfica dos Clientes')\n",
    "plt.show()"
   ]
  },
  {
   "cell_type": "markdown",
   "id": "f93477db-0568-44c6-aabb-2c0c2d8b1401",
   "metadata": {},
   "source": [
    "a distribuição geográfica dos clientes com base em suas coordenadas de latitude e longitude. A representação visual dos dados através de pontos permite identificar padrões de concentração de clientes em determinadas áreas.\n",
    "\n",
    "A análise do gráfico revela que os clientes estão dispersos por uma ampla área geográfica, o que sugere que a empresa tem um alcance considerável e atende a uma base de clientes diversificada. No entanto, pode haver aglomerados de pontos indicando regiões com maior densidade de clientes. Essas áreas de alta densidade podem ser mercados-chave para a empresa e podem justificar investimentos adicionais em marketing ou expansão de serviços.\n",
    "\n",
    "Além disso, áreas com menor densidade de pontos podem representar oportunidades de crescimento ou desafios logísticos que a empresa pode precisar abordar. Estratégias como campanhas de marketing direcionadas ou parcerias com distribuidores locais podem ser consideradas para aumentar a presença da empresa nessas regiões."
   ]
  },
  {
   "cell_type": "markdown",
   "id": "3220667d-2218-47a1-98b9-329693ef0d9a",
   "metadata": {},
   "source": [
    "# Estatísticas descritivas"
   ]
  },
  {
   "cell_type": "markdown",
   "id": "f4cda0af-89de-44ab-b344-2eee46cfb673",
   "metadata": {},
   "source": [
    "## Construção de Hipóteses\n",
    "7. Formulação de hipóteses baseadas na compreensão dos dados.\n",
    "\n",
    "Com base nas informações fornecidas e na análise dos gráficos, podemos considerar que:\n",
    "\n",
    "- Percepção de Valor vs. Frequência de Compra: A categoria casa, apesar de ser menos vendida, tem o melhor NPS, o que pode indicar que produtos com compras menos frequentes, mas de maior valor percebido, tendem a gerar maior satisfação do cliente. Isso sugere que os clientes podem estar dispostos a gastar mais em produtos que consideram investimentos duradouros para suas casas.\n",
    "\n",
    "- Relação entre Satisfação e Volume de Vendas: A categoria roupas, sendo a mais vendida e a menos cara, tem o pior NPS. Isso pode indicar que um alto volume de vendas não necessariamente se traduz em alta satisfação do cliente. Pode haver questões relacionadas à qualidade, ajuste ou expectativas que precisam ser abordadas para melhorar a satisfação do cliente nesta categoria.\n",
    "\n",
    "- Elasticidade de Preço da Demanda: A diferença entre o produto mais caro e o mais barato na categoria eletrônicos sugere que os consumidores têm uma ampla gama de elasticidade de preço, onde alguns estão dispostos a pagar mais por produtos de alta tecnologia, enquanto outros preferem opções mais econômicas.\n",
    "\n",
    "- Impacto da Diversificação de Produtos na Satisfação: A categoria eletrônicos apresenta tanto o produto mais caro quanto o mais barato, o que pode indicar uma diversificação bem-sucedida de produtos que atende a diferentes segmentos de mercado. A estratégia de oferecer uma ampla gama de produtos eletrônicos pode ser um fator na atração e retenção de clientes.\n",
    "\n",
    "- Influência do Preço na Percepção de Qualidade: A categoria casa sendo a mais cara e com o melhor NPS pode sugerir que os consumidores associam preços mais altos com qualidade superior, o que pode ser explorado em estratégias de precificação e marketing.\n",
    "\n",
    "- Satisfação e Lealdade: A alta satisfação na categoria casa pode levar a uma maior lealdade do cliente e a recomendações boca a boca, enquanto a baixa satisfação em roupas pode resultar em menor retenção de clientes e necessidade de esforços de marketing adicionais para manter a base de clientes.\n",
    "\n",
    "- Estratégias de Marketing Baseadas em NPS: O NPS pode ser usado para direcionar estratégias de marketing, focando em melhorar a experiência do cliente em categorias com baixo NPS e capitalizando na alta satisfação do cliente em categorias com alto NPS.\n",
    "\n",
    "- Análise Temporal e Sazonalidade: A análise das datas de compra e a relação com o NPS podem ajudar a identificar períodos de alta satisfação do cliente, que podem ser alavancados para campanhas promocionais e lançamentos de produtos.\n",
    "\n",
    "- Público por Gênero e Idade:\n",
    "Roupas: Tendem a ser mais vendidas e possuem um público amplo que abrange diversas faixas etárias. No entanto, a mediana de idade para o gênero masculino é ligeiramente inferior à do feminino, o que pode indicar que homens mais jovens são um segmento significativo.\n",
    "Casa: Com o melhor NPS e sendo a categoria mais cara, sugere um público que valoriza qualidade e está disposto a investir em produtos duráveis para o lar. Este público pode incluir faixas etárias mais maduras que buscam conforto e estilo.\n",
    "\n",
    "- Canais Ideais:\n",
    "\n",
    "Roupas: Dada a popularidade e o volume de vendas, canais digitais como redes sociais e e-mail marketing podem ser eficazes, especialmente se segmentados por idade e gênero para alcançar o público jovem e engajado.\n",
    "\n",
    "Casa: Produtos com alto NPS e valor agregado podem se beneficiar de canais que permitem uma experiência de compra mais detalhada, como websites com visualizações 3D ou realidade aumentada, e plataformas de conteúdo que oferecem dicas de decoração e estilo de vida.\n",
    "\n",
    "Essas hipóteses podem ser testadas com análises estatísticas adicionais, como regressão, testes de hipóteses e modelagem preditiva, para entender melhor os fatores que influenciam o comportamento dos clientes e otimizar as estratégias de negócios."
   ]
  },
  {
   "cell_type": "markdown",
   "id": "45426048-5f7a-41db-9f2f-b997e6af9dfa",
   "metadata": {
    "tags": []
   },
   "source": [
    "## Próximos Passos\n",
    "8. Sugestões para análises futuras ou coleta de dados adicionais.\n",
    "\n"
   ]
  },
  {
   "cell_type": "markdown",
   "id": "20d1318c-5051-4da8-b06c-450bd3ede1c3",
   "metadata": {},
   "source": [
    "- Testes A/B: Implemente testes A/B em diferentes categorias de produtos para avaliar o impacto de mudanças no preço, descrições de produtos, imagens e promoções nas taxas de conversão.\n",
    "\n",
    "- Análise de Sentimento: Se você tiver acesso a avaliações de clientes ou feedback em texto, considere realizar uma análise de sentimento para entender melhor as emoções dos clientes em relação aos produtos.\n",
    "\n",
    "- Previsão de Demanda: Use modelos de previsão para estimar a demanda futura por produtos, o que pode ajudar no planejamento de estoque e na otimização da cadeia de suprimentos."
   ]
  },
  {
   "cell_type": "code",
   "execution_count": null,
   "id": "03a65496-561b-4449-80d2-171524f298e6",
   "metadata": {},
   "outputs": [],
   "source": []
  }
 ],
 "metadata": {
  "kernelspec": {
   "display_name": "Python 3 (ipykernel)",
   "language": "python",
   "name": "python3"
  },
  "language_info": {
   "codemirror_mode": {
    "name": "ipython",
    "version": 3
   },
   "file_extension": ".py",
   "mimetype": "text/x-python",
   "name": "python",
   "nbconvert_exporter": "python",
   "pygments_lexer": "ipython3",
   "version": "3.9.12"
  }
 },
 "nbformat": 4,
 "nbformat_minor": 5
}
