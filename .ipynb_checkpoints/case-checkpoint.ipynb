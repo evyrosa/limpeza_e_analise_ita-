{
 "cells": [
  {
   "cell_type": "markdown",
   "id": "709040eb-fbc0-40f9-8347-59ed77f7359c",
   "metadata": {
    "tags": []
   },
   "source": [
    "# Projeto de Análise de Dados de E-commerce\n"
   ]
  },
  {
   "cell_type": "markdown",
   "id": "513e5318-d49b-4217-8824-e3c1e0f14cc8",
   "metadata": {},
   "source": [
    "1. Introdução"
   ]
  },
  {
   "cell_type": "markdown",
   "id": "ad6b90ad-fba5-4b84-ac64-b1e4a5dbf1f1",
   "metadata": {},
   "source": [
    "### Descrição do Dataset e Objetivos do Projeto\n",
    "\n",
    "O dataset em questão é uma rica coleção de dados provenientes de transações de e-commerce, que inclui informações detalhadas sobre as compras dos clientes. Com colunas que abrangem desde o ID do Cliente até a Longitude do estado de residência, o conjunto de dados é um reflexo das atividades de compra online, oferecendo insights sobre preferências de produtos, comportamento de compra e satisfação do cliente.\n",
    "\n",
    "### Objetivos do Projeto:\n",
    "\n",
    "Limpeza de Dados: O primeiro objetivo é garantir que o dataset esteja limpo e pronto para análise. Isso envolve a remoção de duplicatas, tratamento de valores ausentes, correção de erros e normalização dos dados.\n",
    "Análise Exploratória: Após a limpeza, o projeto visa realizar uma análise exploratória para identificar padrões, tendências e relações entre as variáveis.\n",
    "\n",
    "Construção de Hipóteses: Com base na análise exploratória, o projeto buscará formular hipóteses sobre o comportamento dos clientes e a performance das categorias de produtos.\n",
    "\n",
    "Testes Estatísticos: Para validar as hipóteses, serão realizados testes estatísticos adequados.\n",
    "Visualização de Dados: O projeto também se concentrará na criação de visualizações gráficas que ajudem a comunicar os resultados da análise de forma eficaz.\n",
    "\n",
    "Insights de Negócios: Por fim, o objetivo é extrair insights acionáveis que possam informar estratégias de negócios e decisões de marketing.\n",
    "Este projeto é uma oportunidade para mergulhar profundamente no mundo do e-commerce, utilizando técnicas de análise de dados para revelar informações valiosas que podem impulsionar o sucesso em um mercado competitivo."
   ]
  },
  {
   "cell_type": "markdown",
   "id": "18b054d3-aafb-426a-8a61-7b8a45291b98",
   "metadata": {},
   "source": [
    "## Configuração do Ambiente\n",
    "2. Instalação e importação de bibliotecas necessárias.\n"
   ]
  },
  {
   "cell_type": "code",
   "execution_count": 1,
   "id": "182bd321-d78f-41a0-a8e2-ac2426475bbf",
   "metadata": {},
   "outputs": [],
   "source": [
    "# Importação de bibliotecas necessárias\n",
    "import pandas as pd\n",
    "import numpy as np\n",
    "import matplotlib.pyplot as plt\n",
    "import seaborn as sns\n",
    "\n",
    "# Configurações adicionais\n",
    "%matplotlib inline\n",
    "sns.set(style=\"whitegrid\")"
   ]
  },
  {
   "cell_type": "markdown",
   "id": "c39f7283-8278-48ce-8b3c-594f5f8778d0",
   "metadata": {},
   "source": [
    "## Importação dos Dados\n",
    "3. Carregamento do dataset no JupyterLab.\n",
    "Verificação inicial dos dados com .head() e .info().\n"
   ]
  },
  {
   "cell_type": "code",
   "execution_count": 6,
   "id": "bbee3a1e-b3c5-4905-b64e-0d83687decc0",
   "metadata": {},
   "outputs": [
    {
     "ename": "NameError",
     "evalue": "name 'pd' is not defined",
     "output_type": "error",
     "traceback": [
      "\u001b[1;31m---------------------------------------------------------------------------\u001b[0m",
      "\u001b[1;31mNameError\u001b[0m                                 Traceback (most recent call last)",
      "Input \u001b[1;32mIn [6]\u001b[0m, in \u001b[0;36m<cell line: 5>\u001b[1;34m()\u001b[0m\n\u001b[0;32m      2\u001b[0m caminho_do_arquivo \u001b[38;5;241m=\u001b[39m \u001b[38;5;124m'\u001b[39m\u001b[38;5;124mC:\u001b[39m\u001b[38;5;130;01m\\\\\u001b[39;00m\u001b[38;5;124mPython Data Science\u001b[39m\u001b[38;5;130;01m\\\\\u001b[39;00m\u001b[38;5;124mcase_itau\u001b[39m\u001b[38;5;130;01m\\\\\u001b[39;00m\u001b[38;5;124mEcommerce_DBS.csv\u001b[39m\u001b[38;5;124m'\u001b[39m\n\u001b[0;32m      4\u001b[0m \u001b[38;5;66;03m# Importação do conjunto de dados\u001b[39;00m\n\u001b[1;32m----> 5\u001b[0m dados \u001b[38;5;241m=\u001b[39m \u001b[43mpd\u001b[49m\u001b[38;5;241m.\u001b[39mread_csv(caminho_do_arquivo)\n",
      "\u001b[1;31mNameError\u001b[0m: name 'pd' is not defined"
     ]
    }
   ],
   "source": [
    "# \n",
    "caminho_do_arquivo = 'C:\\\\Python Data Science\\\\case_itau\\\\Ecommerce_DBS.csv'\n",
    "\n",
    "# Importação do conjunto de dados\n",
    "dados = pd.read_csv(caminho_do_arquivo)"
   ]
  },
  {
   "cell_type": "markdown",
   "id": "378da52a-4b1b-4765-bd7b-b02f93e36f49",
   "metadata": {},
   "source": [
    "## Limpeza dos Dados\n",
    "\n",
    "4. Remoção de duplicatas.\n",
    "5. Tratamento de valores ausentes.\n",
    "6. Correção de erros de entrada e categorias inconsistentes.\n",
    "7. Análise e tratamento de outliers.\n",
    "8. Normalização dos dados, se necessário.\n"
   ]
  },
  {
   "cell_type": "markdown",
   "id": "8366aa66-e6ef-4666-a7fe-25ce363af0a0",
   "metadata": {},
   "source": [
    "## Análise Exploratória de Dados (EDA)\n",
    "9. Estatísticas descritivas.\n",
    "10. Visualização de dados para entender distribuições e relações.\n"
   ]
  },
  {
   "cell_type": "markdown",
   "id": "432777b8-d5ad-40fa-80d4-66aa6f5af1e3",
   "metadata": {},
   "source": [
    "## Construção de Hipóteses\n",
    "11. Formulação de hipóteses baseadas na compreensão dos dados.\n"
   ]
  },
  {
   "cell_type": "markdown",
   "id": "72f8a18d-3a28-4ef5-9369-061677e64589",
   "metadata": {},
   "source": [
    "## Testes Estatísticos\n",
    "12. Realização de testes estatísticos para validar as hipóteses.\n"
   ]
  },
  {
   "cell_type": "markdown",
   "id": "c0a1d7f1-1197-4a1e-9f5e-a12815890e17",
   "metadata": {
    "tags": []
   },
   "source": [
    "## Visualização de Dados Avançada\n",
    "13. Criação de gráficos para representar os resultados dos testes.\n",
    "14. Gráficos como gráficos de barras, linhas, boxplots e heatmaps.\n"
   ]
  },
  {
   "cell_type": "markdown",
   "id": "2cc4bb08-50e9-4367-a1b1-595dc1e4fa7c",
   "metadata": {},
   "source": [
    "## Conclusões\n",
    "15. Sumário dos achados.\n",
    "16. Discussão sobre o significado dos resultados e recomendações.\n"
   ]
  },
  {
   "cell_type": "markdown",
   "id": "45426048-5f7a-41db-9f2f-b997e6af9dfa",
   "metadata": {},
   "source": [
    "## Próximos Passos\n",
    "17. Sugestões para análises futuras ou coleta de dados adicionais.\n",
    "\n"
   ]
  },
  {
   "cell_type": "code",
   "execution_count": null,
   "id": "504695ec-8df3-4655-913a-948213918dbf",
   "metadata": {},
   "outputs": [],
   "source": []
  },
  {
   "cell_type": "code",
   "execution_count": null,
   "id": "2f4e106f-871c-49ae-92c2-2cf4aee4ccae",
   "metadata": {},
   "outputs": [],
   "source": []
  },
  {
   "cell_type": "code",
   "execution_count": null,
   "id": "a1c356bb-2119-4cdb-982d-4714a86ad552",
   "metadata": {},
   "outputs": [],
   "source": []
  },
  {
   "cell_type": "code",
   "execution_count": null,
   "id": "a409b09c-1489-4f44-a995-de0ac55cb1de",
   "metadata": {},
   "outputs": [],
   "source": []
  },
  {
   "cell_type": "code",
   "execution_count": null,
   "id": "664ee2dd-5ceb-4515-a605-c2a295d1c097",
   "metadata": {},
   "outputs": [],
   "source": []
  },
  {
   "cell_type": "code",
   "execution_count": null,
   "id": "7d4825af-58b0-4abb-8599-3ae7936cb0c0",
   "metadata": {},
   "outputs": [],
   "source": []
  },
  {
   "cell_type": "code",
   "execution_count": null,
   "id": "84978661-0f88-4714-a927-de8292958328",
   "metadata": {},
   "outputs": [],
   "source": []
  },
  {
   "cell_type": "code",
   "execution_count": null,
   "id": "3083db15-dc06-4320-90e0-8f6de34b955c",
   "metadata": {},
   "outputs": [],
   "source": []
  },
  {
   "cell_type": "code",
   "execution_count": null,
   "id": "3489d3c1-8326-4472-8a8d-f7f3bc713f2d",
   "metadata": {},
   "outputs": [],
   "source": []
  },
  {
   "cell_type": "code",
   "execution_count": null,
   "id": "67dfd393-215b-4b7d-9d4c-ba9c72f31c8d",
   "metadata": {},
   "outputs": [],
   "source": []
  },
  {
   "cell_type": "code",
   "execution_count": null,
   "id": "0b8d747c-e365-465b-a751-3bff703d6418",
   "metadata": {},
   "outputs": [],
   "source": []
  },
  {
   "cell_type": "code",
   "execution_count": null,
   "id": "cd78265c-3e4e-4c7e-a466-1bf067571ae7",
   "metadata": {},
   "outputs": [],
   "source": []
  },
  {
   "cell_type": "code",
   "execution_count": null,
   "id": "b509f344-df63-4dd5-8cb6-20d9a62c1172",
   "metadata": {},
   "outputs": [],
   "source": []
  },
  {
   "cell_type": "code",
   "execution_count": null,
   "id": "5a7b2d07-91b1-4d2d-b4fa-f12b3a1b677b",
   "metadata": {},
   "outputs": [],
   "source": []
  },
  {
   "cell_type": "code",
   "execution_count": null,
   "id": "921722b6-7078-48dd-9da8-8c5f94ee81bb",
   "metadata": {},
   "outputs": [],
   "source": []
  },
  {
   "cell_type": "code",
   "execution_count": null,
   "id": "7ce94b37-3062-4ae2-bccf-a3d25eba5bdb",
   "metadata": {},
   "outputs": [],
   "source": []
  },
  {
   "cell_type": "code",
   "execution_count": null,
   "id": "635aaa29-e897-4d67-95f1-be5a8f92ce0f",
   "metadata": {},
   "outputs": [],
   "source": []
  },
  {
   "cell_type": "markdown",
   "id": "b738af5e-489a-4de3-a24c-79ecf97a84cf",
   "metadata": {},
   "source": [
    "## Dataset de E-commerce\n",
    "\n",
    "Este dataset oferece uma visão abrangente das transações de e-commerce, capturando uma variedade de informações relacionadas às compras dos clientes. Cada registro no dataset representa uma compra única, detalhando desde a identificação do cliente até a localização geográfica da transação. Com colunas que vão desde o ID do Cliente até a Longitude do estado de residência, os dados fornecem insights valiosos sobre o comportamento de compra, preferências de produtos e satisfação do cliente.\n",
    "\n",
    "Os analistas podem explorar a dinâmica de preços e categorias de produtos, bem como padrões de compra em diferentes regiões. Além disso, o campo NPS oferece uma medida direta da satisfação do cliente, que pode ser correlacionada com outros fatores para entender melhor a lealdade e as tendências do cliente. A inclusão de dados demográficos, como idade e gênero, permite uma segmentação mais profunda e análises direcionadas.\n",
    "\n",
    "Em resumo, este dataset é uma ferramenta poderosa para desvendar as complexidades do comércio eletrônico e para impulsionar estratégias de negócios baseadas em dados. Seja para modelagem preditiva, otimização de marketing ou análise de tendências de vendas, os dados aqui presentes são um ponto de partida essencial para qualquer análise no domínio do e-commerce."
   ]
  },
  {
   "cell_type": "markdown",
   "id": "84b74b92-7777-4861-8d3a-621963771795",
   "metadata": {},
   "source": [
    "## DESCRIÇÃO DAS COLUNAS DO DATASET\n",
    "\n",
    "ID do Cliente (Customer ID): Identificação única atribuída a cada cliente com base no país.\n",
    "\n",
    "Data da Compra (Purchase Date): Data em que o cliente realizou a compra, apresentada em formato de data curta.\n",
    "\n",
    "Categoria do Produto (Product Category): Categoria do produto listado no site.\n",
    "\n",
    "Preço do Produto (Product Price): Preço do item comprado.\n",
    "\n",
    "Quantidade (Quantity): Número de produtos que os clientes compraram.\n",
    "\n",
    "Valor Total da Compra (Total Purchase Amount): Valor total da compra até a compra atual.\n",
    "\n",
    "NPS (NPS): Fator de satisfação do cliente, variando de 0 (o pior) a 10 (o melhor).\n",
    "\n",
    "Idade do Cliente (Customer Age): Faixa etária do cliente, variando de 18 a 70 anos.\n",
    "\n",
    "Gênero (Gender): Gênero do cliente, podendo ser Masculino ou Feminino.\n",
    "\n",
    "Fonte (Source): Origem de onde o cliente foi redirecionado para o site.\n",
    "\n",
    "País (Country): País do cliente, podendo ser Estados Unidos ou Canadá.\n",
    "\n",
    "Estado (State): Estado de residência do cliente.\n",
    "\n",
    "Latitude (Latitude): Latitude do estado de residência.\n",
    "\n",
    "Longitude (Longitude): Longitude do estado de residência."
   ]
  }
 ],
 "metadata": {
  "kernelspec": {
   "display_name": "Python 3 (ipykernel)",
   "language": "python",
   "name": "python3"
  },
  "language_info": {
   "codemirror_mode": {
    "name": "ipython",
    "version": 3
   },
   "file_extension": ".py",
   "mimetype": "text/x-python",
   "name": "python",
   "nbconvert_exporter": "python",
   "pygments_lexer": "ipython3",
   "version": "3.9.12"
  }
 },
 "nbformat": 4,
 "nbformat_minor": 5
}
